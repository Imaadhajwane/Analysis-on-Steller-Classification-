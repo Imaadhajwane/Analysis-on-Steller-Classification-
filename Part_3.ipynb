{
 "cells": [
  {
   "cell_type": "code",
   "execution_count": null,
   "metadata": {},
   "outputs": [
    {
     "name": "stdout",
     "output_type": "stream",
     "text": [
      "              u     alpha\n",
      "u      1.000000 -0.001532\n",
      "alpha -0.001532  1.000000 \n",
      "\n",
      "\n",
      "              g     delta\n",
      "g      1.000000  0.003523\n",
      "delta  0.003523  1.000000 \n",
      "\n",
      "\n",
      "                 r  redshift\n",
      "r         1.000000  0.433241\n",
      "redshift  0.433241  1.000000 \n",
      "\n",
      "\n",
      "              z     alpha\n",
      "z      1.000000 -0.002918\n",
      "alpha -0.002918  1.000000 \n",
      "\n",
      "\n",
      "             i    alpha\n",
      "i      1.00000 -0.02358\n",
      "alpha -0.02358  1.00000 \n",
      "\n",
      "\n"
     ]
    }
   ],
   "source": [
    "list = (df[[\"u\",\"alpha\"]].corr(), df[[\"g\",\"delta\"]].corr(),\n",
    "        df[[\"r\",\"redshift\"]].corr(), df[[\"z\",\"alpha\"]].corr(),\n",
    "        df[[\"i\",\"alpha\"]].corr())\n",
    "for corr in list:\n",
    "    print(corr, \"\\n\\n\")"
   ]
  },
  {
   "cell_type": "code",
   "execution_count": null,
   "metadata": {},
   "outputs": [
    {
     "name": "stdout",
     "output_type": "stream",
     "text": [
      "Pearson correlation coefficient: PearsonRResult(statistic=-0.0015316817049988722, pvalue=0.6281342941920107)\n"
     ]
    }
   ],
   "source": [
    "print(\"Pearson correlation coefficient:\", st.pearsonr(df[\"u\"],\n",
    "                                                      df[\"alpha\"]))"
   ]
  },
  {
   "cell_type": "code",
   "execution_count": null,
   "metadata": {},
   "outputs": [
    {
     "name": "stdout",
     "output_type": "stream",
     "text": [
      "Pearson correlation coefficient: PearsonRResult(statistic=0.003523380604805516, pvalue=0.2652018416125669)\n"
     ]
    }
   ],
   "source": [
    "print(\"Pearson correlation coefficient:\", st.pearsonr(df[\"g\"],\n",
    "                                                      df[\"delta\"]))"
   ]
  },
  {
   "cell_type": "code",
   "execution_count": null,
   "metadata": {},
   "outputs": [
    {
     "name": "stdout",
     "output_type": "stream",
     "text": [
      "Pearson correlation coefficient: PearsonRResult(statistic=0.43324073516450334, pvalue=0.0)\n"
     ]
    }
   ],
   "source": [
    "print(\"Pearson correlation coefficient:\", st.pearsonr(df[\"r\"],\n",
    "                                                      df[\"redshift\"]))"
   ]
  },
  {
   "cell_type": "code",
   "execution_count": null,
   "metadata": {},
   "outputs": [
    {
     "name": "stdout",
     "output_type": "stream",
     "text": [
      "Pearson correlation coefficient: PearsonRResult(statistic=-0.0029177680398609547, pvalue=0.3561793611016764)\n"
     ]
    }
   ],
   "source": [
    "print(\"Pearson correlation coefficient:\", st.pearsonr(df[\"z\"],\n",
    "                                                      df[\"alpha\"]))"
   ]
  },
  {
   "cell_type": "code",
   "execution_count": null,
   "metadata": {},
   "outputs": [
    {
     "name": "stdout",
     "output_type": "stream",
     "text": [
      "Pearson correlation coefficient: PearsonRResult(statistic=-0.023580015911599223, pvalue=8.81131176178404e-14)\n"
     ]
    }
   ],
   "source": [
    "print(\"Pearson correlation coefficient:\", st.pearsonr(df[\"i\"],\n",
    "                                                      df[\"alpha\"]))"
   ]
  },
  {
   "cell_type": "code",
   "execution_count": null,
   "metadata": {},
   "outputs": [],
   "source": [
    "# we select dependent variable (label)\n",
    "y = df[\"fiber_ID\"]\n",
    "\n",
    "# we select independent variable\n",
    "x = df.drop(\"fiber_ID\", axis = 1)"
   ]
  },
  {
   "cell_type": "code",
   "execution_count": null,
   "metadata": {},
   "outputs": [],
   "source": [
    "x_train, x_test, y_train, y_test = train_test_split(x, y,\n",
    "                                                    test_size = 0.25,\n",
    "                                                    shuffle = True,\n",
    "                                                    random_state = 1)"
   ]
  },
  {
   "cell_type": "code",
   "execution_count": null,
   "metadata": {},
   "outputs": [],
   "source": [
    "numeric_columns = x_train.select_dtypes(include=np.number)\n",
    "norm = MinMaxScaler(feature_range=(0, 1))\n",
    "norm.fit(numeric_columns)\n",
    "x_train.loc[:, numeric_columns.columns] = norm.transform(numeric_columns)\n",
    "x_test.loc[:, numeric_columns.columns] = norm.transform(x_test[numeric_columns.columns])\n"
   ]
  },
  {
   "cell_type": "code",
   "execution_count": null,
   "metadata": {},
   "outputs": [
    {
     "name": "stdout",
     "output_type": "stream",
     "text": [
      "       obj_ID     alpha     delta         u         g         r         i  \\\n",
      "52205     0.0  0.657843  0.519931  0.999270  0.998965  0.542245  0.472286   \n",
      "266       0.0  0.641268  0.641761  0.998986  0.999120  0.558293  0.447872   \n",
      "23482     0.0  0.704031  0.581294  0.998850  0.998935  0.565952  0.492498   \n",
      "78508     0.0  0.504019  0.294312  0.998596  0.998584  0.359134  0.316435   \n",
      "71009     0.0  0.489440  0.766408  0.998561  0.998538  0.336868  0.297931   \n",
      "\n",
      "              z    run_ID  rerun_ID  cam_col  field_ID  spec_obj_ID   class  \\\n",
      "52205  0.999044  0.473985         0      0.6  0.062372     0.092754    STAR   \n",
      "266    0.998975  0.382218         0      0.2  0.028630     0.086957  GALAXY   \n",
      "23482  0.999139  0.276419         0      1.0  0.028630     0.673913     QSO   \n",
      "78508  0.998717  0.728176         0      1.0  0.149284     0.240580    STAR   \n",
      "71009  0.998682  0.357631         0      0.2  0.001022     0.240580    STAR   \n",
      "\n",
      "       redshift     plate       MJD  \n",
      "52205  0.001393  0.092582  0.221054  \n",
      "266    0.086019  0.086719  0.158110  \n",
      "23482  0.217847  0.672909  0.874932  \n",
      "78508  0.001361  0.240046  0.444839  \n",
      "71009  0.001384  0.239801  0.442927  \n",
      "\n",
      "\n",
      "(75000, 17)\n",
      "_________________________________________________________________________\n",
      "       obj_ID     alpha     delta         u         g         r         i  \\\n",
      "43660     0.0  0.638351  0.776286  0.999261  0.999045  0.543848  0.441723   \n",
      "87278     0.0  0.605181  0.413778  0.998787  0.998719  0.401887  0.342079   \n",
      "14317     0.0  0.930223  0.341708  0.999082  0.999179  0.594383  0.478755   \n",
      "81932     0.0  0.004155  0.438771  0.998686  0.998773  0.472473  0.413185   \n",
      "95321     0.0  0.518230  0.403671  0.999051  0.999042  0.537723  0.442718   \n",
      "\n",
      "              z    run_ID  rerun_ID  cam_col  field_ID  spec_obj_ID   class  \\\n",
      "43660  0.998960  0.161803         0      0.6  0.301636     0.547826  GALAXY   \n",
      "87278  0.998753  0.566869         0      0.4  0.088957     0.152174  GALAXY   \n",
      "14317  0.999060  0.944244         0      0.8  0.060327     0.389130  GALAXY   \n",
      "81932  0.998935  0.502049         0      0.6  0.113497     0.208696     QSO   \n",
      "95321  0.998958  0.630076         0      0.4  0.355828     0.466667  GALAXY   \n",
      "\n",
      "       redshift     plate       MJD  \n",
      "43660  0.071916  0.546780  0.660158  \n",
      "87278  0.020694  0.151942  0.257373  \n",
      "14317  0.001420  0.388486  0.575505  \n",
      "81932  0.257162  0.208126  0.379711  \n",
      "95321  0.067435  0.465434  0.609776  \n",
      "\n",
      "\n",
      "(25000, 17)\n"
     ]
    }
   ],
   "source": [
    "print(x_train[0:5])\n",
    "print(\"\\n\")\n",
    "print(x_train.shape)\n",
    "print(\"_________________________________________________________________________\")\n",
    "print(x_test[0:5])\n",
    "print(\"\\n\")\n",
    "print(x_test.shape)"
   ]
  },
  {
   "cell_type": "code",
   "execution_count": null,
   "metadata": {},
   "outputs": [
    {
     "name": "stdout",
     "output_type": "stream",
     "text": [
      "52205    406\n",
      "266      212\n",
      "23482    819\n",
      "78508    168\n",
      "71009    628\n",
      "Name: fiber_ID, dtype: int64\n",
      "(75000,)\n",
      "___________________________\n",
      "43660     75\n",
      "87278     30\n",
      "14317    517\n",
      "81932    451\n",
      "95321    681\n",
      "Name: fiber_ID, dtype: int64\n",
      "(25000,)\n"
     ]
    }
   ],
   "source": [
    "print(y_train.head())\n",
    "print(y_train.shape)\n",
    "print(\"___________________________\")\n",
    "print(y_test.head())\n",
    "print(y_test.shape)"
   ]
  },
  {
   "cell_type": "code",
   "execution_count": null,
   "metadata": {},
   "outputs": [],
   "source": [
    "from sklearn.model_selection import train_test_split"
   ]
  },
  {
   "cell_type": "code",
   "execution_count": null,
   "metadata": {},
   "outputs": [],
   "source": [
    "x=df.drop('class',axis=1).values\n",
    "y=df['class'].values"
   ]
  },
  {
   "cell_type": "code",
   "execution_count": null,
   "metadata": {},
   "outputs": [],
   "source": [
    "x_train , x_test , y_train , y_test = train_test_split(x,y, test_size= 0.33 , random_state= 42)"
   ]
  },
  {
   "cell_type": "code",
   "execution_count": null,
   "metadata": {},
   "outputs": [
    {
     "name": "stdout",
     "output_type": "stream",
     "text": [
      "Original dataset shape Counter({'GALAXY': 59445, 'STAR': 21594, 'QSO': 18961})\n",
      "Original ytrain dataset shape Counter({'GALAXY': 39820, 'STAR': 14505, 'QSO': 12675})\n",
      "Resampled ytrain dataset shape Counter({'GALAXY': 39820, 'QSO': 39820, 'STAR': 39820})\n"
     ]
    }
   ],
   "source": [
    "from imblearn.over_sampling import SMOTE\n",
    "from collections import Counter\n",
    "smote = SMOTE(random_state=42)\n",
    "print('Original dataset shape %s' % Counter(y))\n",
    "print('Original ytrain dataset shape %s' % Counter(y_train))\n",
    "x_train_smote, y_train_smote = smote.fit_resample(x_train, y_train)\n",
    "print('Resampled ytrain dataset shape %s' % Counter(y_train_smote))"
   ]
  },
  {
   "cell_type": "code",
   "execution_count": null,
   "metadata": {},
   "outputs": [],
   "source": [
    "from sklearn.ensemble import RandomForestClassifier\n"
   ]
  },
  {
   "cell_type": "code",
   "execution_count": null,
   "metadata": {},
   "outputs": [
    {
     "data": {
      "text/html": [
       "<style>#sk-container-id-2 {color: black;background-color: white;}#sk-container-id-2 pre{padding: 0;}#sk-container-id-2 div.sk-toggleable {background-color: white;}#sk-container-id-2 label.sk-toggleable__label {cursor: pointer;display: block;width: 100%;margin-bottom: 0;padding: 0.3em;box-sizing: border-box;text-align: center;}#sk-container-id-2 label.sk-toggleable__label-arrow:before {content: \"▸\";float: left;margin-right: 0.25em;color: #696969;}#sk-container-id-2 label.sk-toggleable__label-arrow:hover:before {color: black;}#sk-container-id-2 div.sk-estimator:hover label.sk-toggleable__label-arrow:before {color: black;}#sk-container-id-2 div.sk-toggleable__content {max-height: 0;max-width: 0;overflow: hidden;text-align: left;background-color: #f0f8ff;}#sk-container-id-2 div.sk-toggleable__content pre {margin: 0.2em;color: black;border-radius: 0.25em;background-color: #f0f8ff;}#sk-container-id-2 input.sk-toggleable__control:checked~div.sk-toggleable__content {max-height: 200px;max-width: 100%;overflow: auto;}#sk-container-id-2 input.sk-toggleable__control:checked~label.sk-toggleable__label-arrow:before {content: \"▾\";}#sk-container-id-2 div.sk-estimator input.sk-toggleable__control:checked~label.sk-toggleable__label {background-color: #d4ebff;}#sk-container-id-2 div.sk-label input.sk-toggleable__control:checked~label.sk-toggleable__label {background-color: #d4ebff;}#sk-container-id-2 input.sk-hidden--visually {border: 0;clip: rect(1px 1px 1px 1px);clip: rect(1px, 1px, 1px, 1px);height: 1px;margin: -1px;overflow: hidden;padding: 0;position: absolute;width: 1px;}#sk-container-id-2 div.sk-estimator {font-family: monospace;background-color: #f0f8ff;border: 1px dotted black;border-radius: 0.25em;box-sizing: border-box;margin-bottom: 0.5em;}#sk-container-id-2 div.sk-estimator:hover {background-color: #d4ebff;}#sk-container-id-2 div.sk-parallel-item::after {content: \"\";width: 100%;border-bottom: 1px solid gray;flex-grow: 1;}#sk-container-id-2 div.sk-label:hover label.sk-toggleable__label {background-color: #d4ebff;}#sk-container-id-2 div.sk-serial::before {content: \"\";position: absolute;border-left: 1px solid gray;box-sizing: border-box;top: 0;bottom: 0;left: 50%;z-index: 0;}#sk-container-id-2 div.sk-serial {display: flex;flex-direction: column;align-items: center;background-color: white;padding-right: 0.2em;padding-left: 0.2em;position: relative;}#sk-container-id-2 div.sk-item {position: relative;z-index: 1;}#sk-container-id-2 div.sk-parallel {display: flex;align-items: stretch;justify-content: center;background-color: white;position: relative;}#sk-container-id-2 div.sk-item::before, #sk-container-id-2 div.sk-parallel-item::before {content: \"\";position: absolute;border-left: 1px solid gray;box-sizing: border-box;top: 0;bottom: 0;left: 50%;z-index: -1;}#sk-container-id-2 div.sk-parallel-item {display: flex;flex-direction: column;z-index: 1;position: relative;background-color: white;}#sk-container-id-2 div.sk-parallel-item:first-child::after {align-self: flex-end;width: 50%;}#sk-container-id-2 div.sk-parallel-item:last-child::after {align-self: flex-start;width: 50%;}#sk-container-id-2 div.sk-parallel-item:only-child::after {width: 0;}#sk-container-id-2 div.sk-dashed-wrapped {border: 1px dashed gray;margin: 0 0.4em 0.5em 0.4em;box-sizing: border-box;padding-bottom: 0.4em;background-color: white;}#sk-container-id-2 div.sk-label label {font-family: monospace;font-weight: bold;display: inline-block;line-height: 1.2em;}#sk-container-id-2 div.sk-label-container {text-align: center;}#sk-container-id-2 div.sk-container {/* jupyter's `normalize.less` sets `[hidden] { display: none; }` but bootstrap.min.css set `[hidden] { display: none !important; }` so we also need the `!important` here to be able to override the default hidden behavior on the sphinx rendered scikit-learn.org. See: https://github.com/scikit-learn/scikit-learn/issues/21755 */display: inline-block !important;position: relative;}#sk-container-id-2 div.sk-text-repr-fallback {display: none;}</style><div id=\"sk-container-id-2\" class=\"sk-top-container\"><div class=\"sk-text-repr-fallback\"><pre>RandomForestClassifier(bootstrap=True, ccp_alpha=0.0, class_weight=None,\n",
       "                       criterion=&#x27;gini&#x27;, max_depth=7, max_features=3,\n",
       "                       max_leaf_nodes=None, max_samples=None,\n",
       "                       min_impurity_decrease=0.0, min_samples_leaf=1,\n",
       "                       min_samples_split=2, min_weight_fraction_leaf=0.0,\n",
       "                       n_estimators=100, n_jobs=None, oob_score=False,\n",
       "                       random_state=None, verbose=0, warm_start=False)</pre><b>In a Jupyter environment, please rerun this cell to show the HTML representation or trust the notebook. <br />On GitHub, the HTML representation is unable to render, please try loading this page with nbviewer.org.</b></div><div class=\"sk-container\" hidden><div class=\"sk-item\"><div class=\"sk-estimator sk-toggleable\"><input class=\"sk-toggleable__control sk-hidden--visually\" id=\"sk-estimator-id-2\" type=\"checkbox\" checked><label for=\"sk-estimator-id-2\" class=\"sk-toggleable__label sk-toggleable__label-arrow\">RandomForestClassifier</label><div class=\"sk-toggleable__content\"><pre>RandomForestClassifier(bootstrap=True, ccp_alpha=0.0, class_weight=None,\n",
       "                       criterion=&#x27;gini&#x27;, max_depth=7, max_features=3,\n",
       "                       max_leaf_nodes=None, max_samples=None,\n",
       "                       min_impurity_decrease=0.0, min_samples_leaf=1,\n",
       "                       min_samples_split=2, min_weight_fraction_leaf=0.0,\n",
       "                       n_estimators=100, n_jobs=None, oob_score=False,\n",
       "                       random_state=None, verbose=0, warm_start=False)</pre></div></div></div></div></div>"
      ],
      "text/plain": [
       "RandomForestClassifier(bootstrap=True, ccp_alpha=0.0, class_weight=None,\n",
       "                       criterion='gini', max_depth=7, max_features=3,\n",
       "                       max_leaf_nodes=None, max_samples=None,\n",
       "                       min_impurity_decrease=0.0, min_samples_leaf=1,\n",
       "                       min_samples_split=2, min_weight_fraction_leaf=0.0,\n",
       "                       n_estimators=100, n_jobs=None, oob_score=False,\n",
       "                       random_state=None, verbose=0, warm_start=False)"
      ]
     },
     "execution_count": 120,
     "metadata": {},
     "output_type": "execute_result"
    }
   ],
   "source": [
    "rf = RandomForestClassifier(max_depth=7 , max_features=3,n_estimators= 100)\n",
    "rf.fit(x_train_smote, y_train_smote )"
   ]
  },
  {
   "cell_type": "code",
   "execution_count": null,
   "metadata": {},
   "outputs": [
    {
     "data": {
      "text/plain": [
       "0.9714799933031977"
      ]
     },
     "execution_count": 121,
     "metadata": {},
     "output_type": "execute_result"
    }
   ],
   "source": [
    "rf.score(x_train_smote, y_train_smote)\n"
   ]
  },
  {
   "cell_type": "code",
   "execution_count": null,
   "metadata": {},
   "outputs": [
    {
     "data": {
      "text/plain": [
       "0.960030303030303"
      ]
     },
     "execution_count": 122,
     "metadata": {},
     "output_type": "execute_result"
    }
   ],
   "source": [
    "rf.score(x_test,y_test)\n"
   ]
  },
  {
   "cell_type": "code",
   "execution_count": null,
   "metadata": {},
   "outputs": [],
   "source": [
    "from sklearn.metrics import confusion_matrix , classification_report"
   ]
  },
  {
   "cell_type": "code",
   "execution_count": null,
   "metadata": {},
   "outputs": [
    {
     "data": {
      "text/plain": [
       "array([[18743,   724,   158],\n",
       "       [  435,  5850,     1],\n",
       "       [    1,     0,  7088]], dtype=int64)"
      ]
     },
     "execution_count": 124,
     "metadata": {},
     "output_type": "execute_result"
    }
   ],
   "source": [
    "v = confusion_matrix(y_test , rf.predict(x_test))\n",
    "v"
   ]
  },
  {
   "cell_type": "code",
   "execution_count": null,
   "metadata": {},
   "outputs": [
    {
     "data": {
      "text/plain": [
       "(<Figure size 640x480 with 1 Axes>,\n",
       " <AxesSubplot: xlabel='predicted label', ylabel='true label'>)"
      ]
     },
     "execution_count": 125,
     "metadata": {},
     "output_type": "execute_result"
    },
    {
     "data": {
      "image/png": "[encoded data removed]",
      "text/plain": [
       "<Figure size 640x480 with 1 Axes>"
      ]
     },
     "metadata": {},
     "output_type": "display_data"
    }
   ],
   "source": [
    "from mlxtend.plotting import plot_confusion_matrix\n",
    "plot_confusion_matrix(v , class_names=[\"GALAXY\",\"QSO\",\"STAR\"], cmap='YlOrRd')"
   ]
  }
 ],
 "metadata": {
  "kernelspec": {
   "display_name": "Python 3 (ipykernel)",
   "language": "python",
   "name": "python3"
  },
  "language_info": {
   "codemirror_mode": {
    "name": "ipython",
    "version": 3
   },
   "file_extension": ".py",
   "mimetype": "text/x-python",
   "name": "python",
   "nbconvert_exporter": "python",
   "pygments_lexer": "ipython3",
   "version": "3.12.0"
  }
 },
 "nbformat": 4,
 "nbformat_minor": 2
}
